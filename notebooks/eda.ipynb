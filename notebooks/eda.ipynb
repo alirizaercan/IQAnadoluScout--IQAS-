{
 "cells": [
  {
   "cell_type": "markdown",
   "metadata": {},
   "source": [
    "# Position-Based Player Recommendatation System - Exploratory Data Analysis (EDA)"
   ]
  },
  {
   "cell_type": "markdown",
   "metadata": {},
   "source": [
    "## Merging Datasets"
   ]
  },
  {
   "cell_type": "code",
   "execution_count": null,
   "metadata": {},
   "outputs": [
    {
     "name": "stdout",
     "output_type": "stream",
     "text": [
      "Football Teams Columns: Index(['team_id', 'league_name', 'league_id', 'team_name', 'team_info_link',\n",
      "       'img_path', 'num_players', 'avg_age', 'num_legionnaires',\n",
      "       'avg_marketing_val', 'total_squad_value'],\n",
      "      dtype='object')\n",
      "Leagues Columns: Index(['league_id', 'league_name', 'league_logo_path', 'country', 'num_teams',\n",
      "       'players', 'foreign_players', 'avg_marketing_val', 'avg_age',\n",
      "       'most_valuable_player', 'total_market_value'],\n",
      "      dtype='object')\n",
      "Birleştirme işlemi tamamlandı. Sonuç kaydedildi: ../data/processed_data/final_merged_data.csv\n"
     ]
    }
   ],
   "source": [
    "import numpy as np\n",
    "import pandas as pd\n",
    "\n",
    "# Dosya yolları\n",
    "player_dataset_path = '../data/processed_data/merged_players.csv'\n",
    "footballer_dataset_path = '../data/raw_data/footballers.csv'\n",
    "football_teams_dataset_path = '../data/raw_data/football_teams.csv'\n",
    "league_teams_dataset_path = '../data/raw_data/leagues.csv'\n",
    "\n",
    "# Verileri yükleme\n",
    "merged_players = pd.read_csv(player_dataset_path)\n",
    "footballers = pd.read_csv(footballer_dataset_path)\n",
    "football_teams = pd.read_csv(football_teams_dataset_path)\n",
    "leagues = pd.read_csv(league_teams_dataset_path)\n",
    "\n",
    "# Sütunların mevcut olup olmadığını kontrol et\n",
    "print(\"Football Teams Columns:\", football_teams.columns)\n",
    "print(\"Leagues Columns:\", leagues.columns)\n",
    "\n",
    "# Eğer league_id eksikse, boş sütun ekle\n",
    "if 'league_id' not in football_teams.columns:\n",
    "    football_teams['league_id'] = \"\"\n",
    "if 'league_id' not in leagues.columns:\n",
    "    leagues['league_id'] = \"\"\n",
    "\n",
    "# league_id'yi string olarak dönüştür\n",
    "football_teams['league_id'] = football_teams['league_id'].fillna('').astype(str)\n",
    "leagues['league_id'] = leagues['league_id'].fillna('').astype(str)\n",
    "\n",
    "# 1. merged_players ile footballers'ı footballer_id üzerinden birleştir\n",
    "if 'footballer_id' in merged_players.columns and 'footballer_id' in footballers.columns:\n",
    "    merged_data = merged_players.merge(footballers, on='footballer_id', how='left', suffixes=('_player', '_footballer'))\n",
    "else:\n",
    "    print(\"Hata: 'footballer_id' sütunu eksik!\")\n",
    "\n",
    "# 2. football_teams'i team_id üzerinden birleştir\n",
    "if 'team_id' in merged_data.columns and 'team_id' in football_teams.columns:\n",
    "    merged_data = merged_data.merge(football_teams, on='team_id', how='left', suffixes=('', '_team'))\n",
    "else:\n",
    "    print(\"Hata: 'team_id' sütunu eksik!\")\n",
    "\n",
    "# 3. leagues'i league_id üzerinden birleştir\n",
    "if 'league_id' in merged_data.columns and 'league_id' in leagues.columns:\n",
    "    merged_data = merged_data.merge(leagues, on='league_id', how='left', suffixes=('', '_league'))\n",
    "else:\n",
    "    print(\"Hata: 'league_id' sütunu eksik!\")\n",
    "\n",
    "# Sonuçları kaydetme\n",
    "output_path = '../data/processed_data/player_recommendation_dataset.csv'\n",
    "merged_data.to_csv(output_path, index=False)\n",
    "\n",
    "print(f\"Birleştirme işlemi tamamlandı. Sonuç kaydedildi: {output_path}\")\n"
   ]
  }
 ],
 "metadata": {
  "kernelspec": {
   "display_name": "Python 3",
   "language": "python",
   "name": "python3"
  },
  "language_info": {
   "codemirror_mode": {
    "name": "ipython",
    "version": 3
   },
   "file_extension": ".py",
   "mimetype": "text/x-python",
   "name": "python",
   "nbconvert_exporter": "python",
   "pygments_lexer": "ipython3",
   "version": "3.9.0"
  }
 },
 "nbformat": 4,
 "nbformat_minor": 2
}
