{
 "cells": [
  {
   "cell_type": "code",
   "execution_count": 1,
   "metadata": {},
   "outputs": [
    {
     "name": "stdout",
     "output_type": "stream",
     "text": [
      "Temizlenmiş veri seti oluşturuldu: ../data/processed_data/football_teams_cleaned.csv\n"
     ]
    }
   ],
   "source": [
    "import os\n",
    "import csv\n",
    "\n",
    "input_file = '../data/raw_data/football_teams.csv'\n",
    "output_file = '../data/processed_data/football_teams_cleaned.csv'\n",
    "\n",
    "try:\n",
    "    os.makedirs(os.path.dirname(output_file), exist_ok=True)\n",
    "\n",
    "    with open(input_file, mode='r', encoding='utf-8-sig') as infile, open(output_file, mode='w', newline='', encoding='utf-8-sig') as outfile:\n",
    "        reader = csv.DictReader(infile)\n",
    "        writer = csv.DictWriter(outfile, fieldnames=reader.fieldnames)\n",
    "        \n",
    "        writer.writeheader()\n",
    "        valid_id = 1\n",
    "        \n",
    "        for row in reader:\n",
    "            if (\n",
    "                row['team_name'] == 'N/A' or\n",
    "                row['team_info_link'] == 'N/A' or\n",
    "                row['img_path'] == 'N/A' or\n",
    "                row['total_squad_value'] == 'N/A'\n",
    "            ):\n",
    "                continue\n",
    "            \n",
    "            row['team_id'] = valid_id\n",
    "            valid_id += 1\n",
    "            writer.writerow(row)\n",
    "    \n",
    "    print(f\"Temizlenmiş veri seti oluşturuldu: {output_file}\")\n",
    "\n",
    "except FileNotFoundError:\n",
    "    print(f\"Hata: {input_file} bulunamadı. Lütfen dosya yolunu kontrol edin.\")\n",
    "except Exception as e:\n",
    "    print(f\"Beklenmeyen bir hata oluştu: {e}\")\n"
   ]
  },
  {
   "cell_type": "code",
   "execution_count": 2,
   "metadata": {},
   "outputs": [
    {
     "name": "stdout",
     "output_type": "stream",
     "text": [
      "team_id güncellendi ve dosya ../data/raw_data/football_teams.csv konumuna kaydedildi.\n"
     ]
    }
   ],
   "source": [
    "import pandas as pd\n",
    "\n",
    "# CSV dosyasını oku\n",
    "file_path = \"../data/raw_data/football_teams.csv\"\n",
    "df = pd.read_csv(file_path)\n",
    "\n",
    "# team_id sütununu 1'den başlayacak şekilde yeniden oluştur\n",
    "df['team_id'] = range(1, len(df) + 1)\n",
    "\n",
    "# Yenilenmiş DataFrame'i tekrar CSV olarak kaydet\n",
    "output_path = \"../data/raw_data/football_teams.csv\"\n",
    "df.to_csv(output_path, index=False)\n",
    "\n",
    "print(f\"team_id güncellendi ve dosya {output_path} konumuna kaydedildi.\")\n"
   ]
  }
 ],
 "metadata": {
  "kernelspec": {
   "display_name": "Python 3",
   "language": "python",
   "name": "python3"
  },
  "language_info": {
   "codemirror_mode": {
    "name": "ipython",
    "version": 3
   },
   "file_extension": ".py",
   "mimetype": "text/x-python",
   "name": "python",
   "nbconvert_exporter": "python",
   "pygments_lexer": "ipython3",
   "version": "3.9.0"
  }
 },
 "nbformat": 4,
 "nbformat_minor": 2
}
